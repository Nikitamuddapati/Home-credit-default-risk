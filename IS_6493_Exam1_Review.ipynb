{
  "nbformat": 4,
  "nbformat_minor": 0,
  "metadata": {
    "colab": {
      "provenance": [],
      "toc_visible": true,
      "include_colab_link": true
    },
    "kernelspec": {
      "name": "python3",
      "display_name": "Python 3"
    },
    "language_info": {
      "name": "python"
    }
  },
  "cells": [
    {
      "cell_type": "markdown",
      "metadata": {
        "id": "view-in-github",
        "colab_type": "text"
      },
      "source": [
        "<a href=\"https://colab.research.google.com/github/Nikitamuddapati/Home-credit-default-risk/blob/main/IS_6493_Exam1_Review.ipynb\" target=\"_parent\"><img src=\"https://colab.research.google.com/assets/colab-badge.svg\" alt=\"Open In Colab\"/></a>"
      ]
    },
    {
      "cell_type": "markdown",
      "source": [
        "# Exam One Review\n",
        "\n",
        "This workbook is intended as a walkthrough of the major ideas that you are being tested on in Exam One. If you can successfully solve the majority of these questions, you are ready for the first exam.\n",
        "\n",
        "Note that you will not be allowed to use AI coding assistants during the Exam (that includes collaboratory)\n"
      ],
      "metadata": {
        "id": "8koTlKjYsu5V"
      }
    },
    {
      "cell_type": "markdown",
      "source": [
        "## Base Python - Identifying and Working with Data Types"
      ],
      "metadata": {
        "id": "cKfIDjZfs_02"
      }
    },
    {
      "cell_type": "code",
      "execution_count": 7,
      "metadata": {
        "id": "CcYdsC9ksqhQ",
        "colab": {
          "base_uri": "https://localhost:8080/"
        },
        "outputId": "ee97b911-4b8d-4954-cf23-9a2fd1eecd60"
      },
      "outputs": [
        {
          "output_type": "stream",
          "name": "stdout",
          "text": [
            "the   <class 'int'> is 8\n",
            "the   <class 'str'> is string\n",
            "the   <class 'str'> is 4.875\n",
            "the   <class 'bool'> is True\n"
          ]
        }
      ],
      "source": [
        "# create variables of the following types - int, string, float, bool\n",
        "integer = 5\n",
        "string = 'string'\n",
        "\n",
        "my_int = 8\n",
        "my_string =\"string\"\n",
        "my_float = \"4.875\"\n",
        "my_boolean = True\n",
        "\n",
        "# print each one out with leading text label e.g. \"the string is: stringvariable\"\n",
        "\n",
        "print(\"the  \",type(my_int), \"is\", my_int)\n",
        "print(\"the  \",type(my_string), \"is\", my_string)\n",
        "\n",
        "print(\"the  \",type(my_float), \"is\", my_float)\n",
        "\n",
        "print(\"the  \",type(my_boolean), \"is\", my_boolean)\n",
        "\n"
      ]
    },
    {
      "cell_type": "code",
      "source": [
        "#create dictionary\n",
        "\n",
        "my_dict = {'my_int':4,'my_string':string, 'my_float':4.875, 'my_boolean':True}\n",
        "print(my_dict)"
      ],
      "metadata": {
        "colab": {
          "base_uri": "https://localhost:8080/"
        },
        "id": "Otu-9thyU38-",
        "outputId": "282f5eb7-9048-4ab9-89e2-30b12ab8545a"
      },
      "execution_count": 10,
      "outputs": [
        {
          "output_type": "stream",
          "name": "stdout",
          "text": [
            "{'my_int': 4, 'my_string': 'string', 'my_float': 4.875, 'my_boolean': True}\n"
          ]
        }
      ]
    },
    {
      "cell_type": "code",
      "source": [
        "#loop through the dictionary\n",
        "\n"
      ],
      "metadata": {
        "id": "MJ37Pp_bVQGB"
      },
      "execution_count": null,
      "outputs": []
    },
    {
      "cell_type": "code",
      "source": [
        "# create a string \"this is a string\" and convert it to all uppercase. Does this change 'in place' or does it need a new variable assigned to it?\n",
        "\n",
        "# convert the string above to title case. Hint: using .title() string method\n",
        "\n",
        "# create an int and a float variable and multiply them. What will the type of the new variable be?\n",
        "\n",
        "# create an int and a string and multiply them. what will the output look like?\n",
        "\n",
        "# create a float and a string and multiply them. what will the output be?\n"
      ],
      "metadata": {
        "id": "Dm2OIs2Kw2Sn"
      },
      "execution_count": null,
      "outputs": []
    },
    {
      "cell_type": "markdown",
      "source": [
        "## Base Python - Built in Functions and Objects"
      ],
      "metadata": {
        "id": "JqwHId370zPd"
      }
    },
    {
      "cell_type": "code",
      "source": [
        "# In a new cell, write a range() command and print out the range object\n",
        "\n",
        "# wrap a list() command around the range() command from the previous step. What is the difference?"
      ],
      "metadata": {
        "id": "QDxYQFEr-UIb"
      },
      "execution_count": null,
      "outputs": []
    },
    {
      "cell_type": "code",
      "source": [
        "# use the built in function range() to create a list of numbers between 10 and 50 (including 50)\n",
        "\n",
        "# loop through the created range object and append only the odd numbers to a new list.  hint: dividing the number by 2 gives zero. You can use % or modulus\n",
        "\n",
        "# how would this look as a lambda function?\n",
        "\n",
        "# how would this look as a list comprehension?\n",
        "\n",
        "# assuming I add 2 as a third argument to the range() function above, how many elements will be in the new list of odd numbers?\n",
        "\n"
      ],
      "metadata": {
        "id": "O9ugjI0Dxo5h"
      },
      "execution_count": null,
      "outputs": []
    },
    {
      "cell_type": "code",
      "source": [
        "# create objects of the following types - list, tuple, dict"
      ],
      "metadata": {
        "id": "r8C4j2YQuNmb"
      },
      "execution_count": null,
      "outputs": []
    },
    {
      "cell_type": "code",
      "source": [
        "# which of the above objects can I use the zip() function on? Try it below.\n",
        "\n",
        "# which of the above objects can I use the enumerate() function on? Try it below.\n",
        "\n",
        "# which of the above objects can I use the sorted() function on? Try it below.\n"
      ],
      "metadata": {
        "id": "Gn52wDwUzG6R"
      },
      "execution_count": null,
      "outputs": []
    },
    {
      "cell_type": "code",
      "source": [
        "# loop through the zip() object you created before. What is unique about the zip object? hint: try looping through twice.\n",
        "\n",
        "# loop through the enumerate() object you created before. What does this function add?\n",
        "\n",
        "# consider a list of lists as follows. [['Milk', 3.99, 2,'Aisle C4'],['Eggs', 11.99, 1,'Aisle C4'], ['Bread', 3.50, 3, 'Aisle D2']]. How would you use sorted() to sort by qty (integers)\n"
      ],
      "metadata": {
        "id": "IVqkvf5g41nE"
      },
      "execution_count": null,
      "outputs": []
    },
    {
      "cell_type": "markdown",
      "source": [
        "## Base Python - Subsetting Objects\n"
      ],
      "metadata": {
        "id": "PLn1pm0au8m9"
      }
    },
    {
      "cell_type": "code",
      "source": [
        "# create a string \"this is a string\" and subset it to display only \"is a\"\n",
        "\n",
        "# create a list ['A','B','C','D','E'] and subset it to display 1. C to E, 2. Only C 3. Only C and E 4. Always last two items only\n",
        "\n",
        "# add these items to the earlier list ['G',['H','I']] using two append statements to create ['A','B','C','D','E','G',['H','I']]\n",
        "\n",
        "# check to make sure your code to dislay the last two items only still works\n",
        "\n",
        "# call .pop() on the list to see what the output is. Is the original list changed?\n",
        "\n",
        "# combine .pop() and .insert() to move the 'G' to the beginning of the list i.e. index position 0"
      ],
      "metadata": {
        "id": "SiAzetsvvEwY"
      },
      "execution_count": null,
      "outputs": []
    },
    {
      "cell_type": "markdown",
      "source": [
        "## Numpy - Creating n-dimensional arrays\n"
      ],
      "metadata": {
        "id": "PtYtDN-_09ud"
      }
    },
    {
      "cell_type": "code",
      "source": [
        "# create a numpy array of dimensions (1,6) 1. manually 2. filled up of zeroes 3. filled up of the number 8\n",
        "\n",
        "# convert 1 above to a shape of (3,2), 2 to a shape of (2,3) and 3 to a shape of (6,1). Print out the new arrays each time\n"
      ],
      "metadata": {
        "id": "RLovX3k01Byh"
      },
      "execution_count": null,
      "outputs": []
    },
    {
      "cell_type": "code",
      "source": [
        "# create a numpy array of dimensions (4,4) using any method above. Call it nd\n",
        "\n",
        "# use the where() function of numpy to return a (4,4) matrix of booleans (True or False) where the value is greater than the mean of all values\n"
      ],
      "metadata": {
        "id": "YYhLvkF5SJFu"
      },
      "execution_count": null,
      "outputs": []
    },
    {
      "cell_type": "code",
      "source": [
        "# we already used the range() built in function to generate a list of numbers between an upper and lower limit, and at intervals\n",
        "# try doing the same thing using the numpy linspace function. For instance call np.linspace() with the exact same arguments you used before for range()\n",
        "# what is the difference?\n",
        "\n",
        "\n",
        "# can you get linspace to give you the same output as the range() function?\n",
        "# hint: you can use the dtype = int argument to force linspace to give you ints\n"
      ],
      "metadata": {
        "id": "3L36gIv_8jWf"
      },
      "execution_count": null,
      "outputs": []
    },
    {
      "cell_type": "code",
      "source": [
        "# what can you say about the type of data that should be stored in a numpy array? Would you recommend mixed data types?"
      ],
      "metadata": {
        "id": "_aEavwrxBt6J"
      },
      "execution_count": null,
      "outputs": []
    },
    {
      "cell_type": "code",
      "source": [
        "# review HW 2"
      ],
      "metadata": {
        "id": "IWRn-WzD8Sz8"
      },
      "execution_count": null,
      "outputs": []
    },
    {
      "cell_type": "markdown",
      "source": [
        "## Pandas - Working on Series and Dataframes\n"
      ],
      "metadata": {
        "id": "5xmHyHEyBSpi"
      }
    },
    {
      "cell_type": "code",
      "source": [
        "# what are some differences between a pandas series and a pandas dataframe?\n",
        "\n",
        "# convert our list of lists on groceries to a pandas dataframe called df - [['Milk', 3.99, 2,'Aisle C4'],['Eggs', 11.99, 1,'Aisle C4'], ['Bread', 3.50, 3, 'Aisle D2']]\n",
        "# make sure you supply human readable column names - a strength of pandas ['item','cost','qty','aisle']"
      ],
      "metadata": {
        "id": "ZrRrGNhpBXNT"
      },
      "execution_count": null,
      "outputs": []
    },
    {
      "cell_type": "code",
      "source": [
        "# use .describe() to view a summary of the numeric columns in df\n",
        "\n",
        "# save the dataframe to a csv file called 'groceries.csv'"
      ],
      "metadata": {
        "id": "Vt3wuhf3pT1b"
      },
      "execution_count": null,
      "outputs": []
    },
    {
      "cell_type": "code",
      "source": [
        "# using the dataframe you created above, df for the following questions, each using exactly one line of pandas code\n",
        "\n",
        "# 1. count the number of items in each aisle\n",
        "\n",
        "# 2. display the minimum item cost (value only)\n",
        "\n",
        "# 3. display the item with the minimum cost (item name only)\n",
        "\n",
        "# 4. display the item with the largest quantity (item name only)\n",
        "\n",
        "# 5. create a new column called 'total_cost' and calculate it (you dont have to display it in the same line) - ADDS NEW COLUMN\n",
        "\n",
        "# 6. display the total cost per aisle\n",
        "\n",
        "# 7. rename 'qty' to 'quantity'. Hint: use the inplace = True argument to avoid reassigning to a new df\n",
        "\n",
        "# 8. sort the dataframe by item in alphabetical order\n",
        "\n",
        "# 9. add a new column called 'item_word_length' which should be the number of letters for each item e.g. 4 for Eggs - ADDS NEW COLUMN\n",
        "\n",
        "# 10. create a new column that calculates the cost_per_letter of each item - ADDS NEW COLUMN\n",
        "\n",
        "# 11. delete the item_word_length column - REMOVES COLUMN\n",
        "\n",
        "# 12. display the shape of your data frame. How does it compare with the shape when you first created it?\n"
      ],
      "metadata": {
        "id": "VBhE0ERAB9vQ"
      },
      "execution_count": null,
      "outputs": []
    },
    {
      "cell_type": "markdown",
      "source": [
        "## Pandas - Merging new Rows"
      ],
      "metadata": {
        "id": "wpbv7kgmh6OC"
      }
    },
    {
      "cell_type": "code",
      "source": [
        "# Imagine we create a new list with additional groceries as follows called new_order ['Bananas', 0.79, 4, 'Aisle B2']\n",
        "\n",
        "# What steps do we need to take to merge it with our existing df dataframe?\n",
        "# Hint: you don't have to calculate the NEW COLUMNS to merge them. Of course it is desirable from a data quality perspective, but not required.\n"
      ],
      "metadata": {
        "id": "Vtyi4RGcLcv6"
      },
      "execution_count": null,
      "outputs": []
    },
    {
      "cell_type": "code",
      "source": [
        "# What is the function for checking for null values in a pandas dataframe?\n",
        "\n",
        "# Count the number of null values our newly appended dataframe df\n",
        "\n",
        "# what is the function for checking if a row is a duplicate in a pandas dataframe?\n",
        "\n",
        "# in pandas, what is the difference between using assign(), apply(), map(), applymap() and transform()\n",
        "\n",
        "\n"
      ],
      "metadata": {
        "id": "GAvCjRPqPY1o"
      },
      "execution_count": null,
      "outputs": []
    },
    {
      "cell_type": "markdown",
      "source": [
        "## Pandas - Understanding Indexes"
      ],
      "metadata": {
        "id": "pAIBjRq6h_i7"
      }
    },
    {
      "cell_type": "code",
      "source": [
        "# use the command df.set_index('item') to set the item name as the row name in pandas.\n",
        "\n",
        "# I want to retrieve a certain row in pandas, what is the difference between using label indexing .loc and integer indexing .iloc?\n",
        "\n",
        "# retrieve the second row ('Eggs') in our df dataframe using both methods\n",
        "\n",
        "# use the command df = df.reset_index().rename(columns={'index': 'item'}) to return your dataframe to original, with item as a column again and indexes as autoincrementing integers\n",
        "\n"
      ],
      "metadata": {
        "id": "VkZUQsEdVHkl"
      },
      "execution_count": null,
      "outputs": []
    },
    {
      "cell_type": "markdown",
      "source": [
        "## Pandas - Merging new Columns i.e. like Excel Vlookup"
      ],
      "metadata": {
        "id": "LWmIldzAiEpX"
      }
    },
    {
      "cell_type": "code",
      "source": [
        "# we obtain a dataset of calorie ratings per 100g for different items in the store as follows\n",
        "# calorific_ratings = [['Milk', 42],['Eggs', 155],['Bread', 265],['Banana', 89],['Muffins', 377],['Cheese', 402]]\n",
        "\n",
        "# create a new dataframe called df2 that merges calorific ratings in a new column called 'calories_100g'\n",
        "# Hint: check to see if there are any Null values in df2 and try to figure out why\n",
        "\n",
        "]"
      ],
      "metadata": {
        "id": "eWaWE91yXjE0"
      },
      "execution_count": null,
      "outputs": []
    },
    {
      "cell_type": "markdown",
      "source": [
        "## Pandas - Categorical Variables from Measures"
      ],
      "metadata": {
        "id": "ASp7x_esiNrV"
      }
    },
    {
      "cell_type": "code",
      "source": [
        "# In a new dataframe, dm_df, create a dummy variable from the aisle column in df. Let the dummy variables have a prefix of \"A\".\n",
        "# Merge dm_df with the original dataframe df"
      ],
      "metadata": {
        "id": "LxIM4S43rI5o"
      },
      "execution_count": null,
      "outputs": []
    },
    {
      "cell_type": "code",
      "source": [
        "# For the rest of this lab you will be working with df2\n",
        "# Create two new columns calorie_level and cost_level (using total cost) where they range from 1 to 3. 3 for highest cost( or calorie) and 1 for lowest.\n",
        "# I want the groups equally sized not equally spaced. Hint: use pd.qcut() not pd.cut() - review the difference if you are not clear\n",
        "\n",
        "# Create additional dummy variables (1 means yes, 0 means no) for low_cost_low_calories and high_cost_high_calories only\n",
        "# Decide on whether to use the calorie_level or cost_level (e.g. high_cost_low_calories is 3 on cost and 1 on calories, etc) or any other cut off you decide e.g. mean/median/mode\n",
        "# Make sure that the dummy variables are not all zeroes!\n",
        "\n"
      ],
      "metadata": {
        "id": "7AmHhwNrc35k"
      },
      "execution_count": null,
      "outputs": []
    },
    {
      "cell_type": "code",
      "source": [
        "# Review HW 3"
      ],
      "metadata": {
        "id": "uw3aAembicep"
      },
      "execution_count": null,
      "outputs": []
    }
  ]
}